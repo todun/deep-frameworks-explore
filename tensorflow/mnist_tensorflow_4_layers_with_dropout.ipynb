{
 "cells": [
  {
   "cell_type": "markdown",
   "metadata": {},
   "source": [
    "# Introduction\n",
    "## May the _tensor_ flow with you...\n",
    "\n",
    "After the team [Wakanda](https://en.wikipedia.org/wiki/Wakanda_(comics%29), I mean [Team Torch Panther](https://medium.com/ai-saturdays/aisaturdaylagos-the-torch-panther-cdec328c125b) or was it [team pytorch](pytorch.org) razzle dazzled the [AI Saturday Lagos community](https://medium.com/ai-saturdays) with its pythonic and dynamic neural networking ways, it was time for Tensors to take center stage with its elegant flow and high performance due to its C++ backend and lazy evaluation due to its computational graph execution model.\n",
    "\n",
    "![Yoda Tensor Flows](memes/tensors-flows-from-node-to-node-they-do.jpg)\n",
    "\n",
    "To learn more of how you can flow with the tensors, keep reading to be one with the Tensorflow."
   ]
  },
  {
   "cell_type": "markdown",
   "metadata": {},
   "source": [
    "# Objectives\n",
    "\n",
    "- This Jupyter notebook would walk through how to classify handwritten digits using the [opensource Google Brain's](https://github.com/tensorflow) [tensorflow](https://www.tensorflow.org) python library.\n",
    "\n",
    "- Further, only the low level tensorflow API would be used to demonstrate how to recognize images of digits(0 through 9) with over 99% accuracy."
   ]
  },
  {
   "cell_type": "markdown",
   "metadata": {},
   "source": [
    "# Install tensorflow\n",
    ">> Setup shown for [Unix](https://en.wikipedia.org/wiki/Unix) / [Linux](https://en.wikipedia.org/wiki/Linux) / [OSX](https://en.wikipedia.org/wiki/MacOS)\n",
    "\n",
    "This notebook would use the Google tensorflow python library. \n",
    "Pre-installation steps include:\n",
    "- [installing anaconda](https://www.anaconda.com)\n",
    "- installing tensorflow on your computer with anaconda: <code>conda install tensorflow</code>\n",
    "    - Optionaly install a specific version of tensorflow <code>conda install tensorflow=1.0.0</code>"
   ]
  },
  {
   "cell_type": "code",
   "execution_count": 1,
   "metadata": {},
   "outputs": [],
   "source": [
    "import tensorflow as tf\n",
    "import numpy as np\n",
    "%matplotlib inline"
   ]
  },
  {
   "cell_type": "markdown",
   "metadata": {},
   "source": [
    "# Setup an interactive session\n",
    "Used to yield results of the built [computational graph](https://www.tensorflow.org/programmers_guide/graphs)"
   ]
  },
  {
   "cell_type": "code",
   "execution_count": 2,
   "metadata": {},
   "outputs": [],
   "source": [
    "sess = tf.InteractiveSession()"
   ]
  },
  {
   "cell_type": "markdown",
   "metadata": {},
   "source": [
    "# Reading the [mnist](http://yann.lecun.com/exdb/mnist) data \n",
    "This is data from the Mixed National Institute of Standards and Technology representing digitized handwritten digits"
   ]
  },
  {
   "cell_type": "code",
   "execution_count": 3,
   "metadata": {},
   "outputs": [
    {
     "name": "stdout",
     "output_type": "stream",
     "text": [
      "Extracting MNIST_data/train-images-idx3-ubyte.gz\n",
      "Extracting MNIST_data/train-labels-idx1-ubyte.gz\n",
      "Extracting MNIST_data/t10k-images-idx3-ubyte.gz\n",
      "Extracting MNIST_data/t10k-labels-idx1-ubyte.gz\n"
     ]
    }
   ],
   "source": [
    "from tensorflow.examples.tutorials.mnist import input_data\n",
    "mnist = input_data.read_data_sets('MNIST_data', one_hot=True)\n",
    "width = 28 # width of the image in pixels \n",
    "height = 28 # height of the image in pixels\n",
    "flat = width * height # number of pixels in one image \n",
    "class_output = 10 # number of possible classifications for the problem\n",
    "x  = tf.placeholder(tf.float32, shape=[None, flat])\n",
    "y_ = tf.placeholder(tf.float32, shape=[None, class_output])"
   ]
  },
  {
   "cell_type": "markdown",
   "metadata": {},
   "source": [
    "# First convolution layer\n",
    "- A convolutional layer is used to extract features of the image which are represented as [tensors](https://www.tensorflow.org/programmers_guide/tensors)\n",
    "- The goal is to train weights and their biases that represents the learned important features of the images\n",
    "- Weights and biases are represented as [variables](https://www.tensorflow.org/programmers_guide/variables) in tensorflow\n",
    "- The actual convolution, [down sampling](https://www.tensorflow.org/tutorials/layers) the images, is done with [max_pool](https://www.tensorflow.org/api_docs/python/tf/nn/max_pool)\n",
    "- After the learning is complete for the first layer, the layer is then activated with an activation function.\n",
    "- Since deep learning mimics the brain, a function that models a neuronal activation/learning is used. The current scientific consensus is that is done in a [relu](https://www.tensorflow.org/api_docs/python/tf/nn/relu) like manner."
   ]
  },
  {
   "cell_type": "code",
   "execution_count": 4,
   "metadata": {},
   "outputs": [],
   "source": [
    "x_image = tf.reshape(x, [-1,28,28,1]) \n",
    "W_conv1 = tf.Variable(tf.truncated_normal([5, 5, 1, 32], stddev=0.1))\n",
    "b_conv1 = tf.Variable(tf.constant(0.1, shape=[32])) # need 32 biases for 32 outputs\n",
    "convolve1= tf.nn.conv2d(x_image, W_conv1, strides=[1, 1, 1, 1], padding='SAME') + b_conv1\n",
    "h_conv1 = tf.nn.relu(convolve1)\n",
    "conv1 = tf.nn.max_pool(h_conv1, ksize=[1, 2, 2, 1], strides=[1, 2, 2, 1], padding='SAME')"
   ]
  },
  {
   "cell_type": "markdown",
   "metadata": {},
   "source": [
    "# Second convolution layer\n",
    "- To make our neural network get better at learning the image features, a second convolutional layer is added to aid its extraction of higher level features.\n",
    "- This is how deep learning gets its name. Additional layers make for a _deeper learning_ of the images."
   ]
  },
  {
   "cell_type": "code",
   "execution_count": 5,
   "metadata": {},
   "outputs": [],
   "source": [
    "W_conv2 = tf.Variable(tf.truncated_normal([5, 5, 32, 64], stddev=0.1))\n",
    "b_conv2 = tf.Variable(tf.constant(0.1, shape=[64])) #need 64 biases for 64 outputs\n",
    "convolve2= tf.nn.conv2d(conv1, W_conv2, strides=[1, 1, 1, 1], padding='SAME')+ b_conv2\n",
    "h_conv2 = tf.nn.relu(convolve2)\n",
    "conv2 = tf.nn.max_pool(h_conv2, ksize=[1, 2, 2, 1], strides=[1, 2, 2, 1], padding='SAME') #max_pool_2x2"
   ]
  },
  {
   "cell_type": "markdown",
   "metadata": {},
   "source": [
    "# Fully connected layer\n",
    "A fully connected layer is used to integrate all the learnings of the network."
   ]
  },
  {
   "cell_type": "code",
   "execution_count": 6,
   "metadata": {},
   "outputs": [],
   "source": [
    "layer2_matrix = tf.reshape(conv2, [-1, 7*7*64])\n",
    "W_fc1 = tf.Variable(tf.truncated_normal([7 * 7 * 64, 1024], stddev=0.1))\n",
    "b_fc1 = tf.Variable(tf.constant(0.1, shape=[1024])) # need 1024 biases for 1024 outputs\n",
    "fcl=tf.matmul(layer2_matrix, W_fc1) + b_fc1\n",
    "h_fc1 = tf.nn.relu(fcl)"
   ]
  },
  {
   "cell_type": "markdown",
   "metadata": {},
   "source": [
    "# Optional dropout layer \n",
    "- In other to prevent overfitting (.i.e. over learning), dropout is used \n",
    "- The predictions are done using the softmax function to classify the digits being feed as input images. This is actually done on the fully connected layer"
   ]
  },
  {
   "cell_type": "code",
   "execution_count": 7,
   "metadata": {},
   "outputs": [],
   "source": [
    "keep_prob = tf.placeholder(tf.float32)\n",
    "layer_drop = tf.nn.dropout(h_fc1, keep_prob)\n",
    "W_fc2 = tf.Variable(tf.truncated_normal([1024, 10], stddev=0.1)) #1024 neurons\n",
    "b_fc2 = tf.Variable(tf.constant(0.1, shape=[10])) # 10 possibilities for digits [0,1,2,3,4,5,6,7,8,9]\n",
    "fc=tf.matmul(layer_drop, W_fc2) + b_fc2\n",
    "y_CNN= tf.nn.softmax(fc)"
   ]
  },
  {
   "cell_type": "markdown",
   "metadata": {},
   "source": [
    "---------------"
   ]
  },
  {
   "cell_type": "markdown",
   "metadata": {},
   "source": [
    ">>NOTE: The dropout layer marks the end of our computational graph"
   ]
  },
  {
   "cell_type": "markdown",
   "metadata": {},
   "source": [
    "# Defining Loss Function and training the model\n",
    "To know how well our network is doing, we use the cross_entropy function to measure our loss between trained and actual/test(never seen by our neural network before) input data."
   ]
  },
  {
   "cell_type": "code",
   "execution_count": 8,
   "metadata": {},
   "outputs": [
    {
     "name": "stdout",
     "output_type": "stream",
     "text": [
      "step 0, training accuracy 0.1\n",
      "step 100, training accuracy 0.82\n",
      "step 200, training accuracy 0.96\n",
      "step 300, training accuracy 0.84\n",
      "step 400, training accuracy 1\n",
      "test accuracy 0.9467\n"
     ]
    }
   ],
   "source": [
    "layer4_test =[[0.9, 0.1, 0.1],[0.9, 0.1, 0.1]]\n",
    "y_test=[[1.0, 0.0, 0.0],[1.0, 0.0, 0.0]]\n",
    "np.mean( -np.sum(y_test * np.log(layer4_test),1))\n",
    "cross_entropy = tf.reduce_mean(-tf.reduce_sum(y_ * tf.log(y_CNN), reduction_indices=[1]))\n",
    "train_step = tf.train.AdamOptimizer(1e-4).minimize(cross_entropy)\n",
    "correct_prediction = tf.equal(tf.argmax(y_CNN,1), tf.argmax(y_,1))\n",
    "accuracy = tf.reduce_mean(tf.cast(correct_prediction, tf.float32))\n",
    "sess.run(tf.global_variables_initializer())\n",
    "\n",
    "num_iterations = 500\n",
    "batch_size = 50\n",
    "for i in range(num_iterations):\n",
    "    batch = mnist.train.next_batch(batch_size)\n",
    "    if i%100 == 0:\n",
    "        train_accuracy = accuracy.eval(feed_dict={\n",
    "            x:batch[0], y_: batch[1], keep_prob: 1.0})\n",
    "        print(\"step %d, training accuracy %g\"%(i, train_accuracy))\n",
    "    train_step.run(feed_dict={x: batch[0], y_: batch[1], keep_prob: 0.5})\n",
    "\t\n",
    "print(\"test accuracy %g\"%accuracy.eval(feed_dict={x: mnist.test.images, y_: mnist.test.labels, keep_prob: 1.0}))"
   ]
  },
  {
   "cell_type": "markdown",
   "metadata": {},
   "source": [
    "# Visualisation\n",
    "\n",
    "First get the tile_raster_images [utility](http://deeplearning.net/tutorial/code/utils.py) for drawing raster images from [deeplearning](http://deeplearning.net)"
   ]
  },
  {
   "cell_type": "code",
   "execution_count": 9,
   "metadata": {},
   "outputs": [],
   "source": [
    "import utils\n",
    "from utils import tile_raster_images\n",
    "import matplotlib.pyplot as plt\n",
    "from PIL import Image"
   ]
  },
  {
   "cell_type": "markdown",
   "metadata": {},
   "source": [
    "[Kernels](https://en.wikipedia.org/wiki/Kernel_(image_processing%29) in image processing is a small matrix used for blurring, sharpening, embossing, edge detection, and more. This is accomplished by doing a convolution between a kernel and an image."
   ]
  },
  {
   "cell_type": "code",
   "execution_count": 10,
   "metadata": {},
   "outputs": [],
   "source": [
    "kernels = sess.run(tf.reshape(tf.transpose(W_conv1, perm=[2, 3, 0,1]),[32,-1]))"
   ]
  },
  {
   "cell_type": "markdown",
   "metadata": {},
   "source": [
    "Then plot the training accuracy"
   ]
  },
  {
   "cell_type": "code",
   "execution_count": 11,
   "metadata": {},
   "outputs": [
    {
     "data": {
      "image/png": "[encoded data removed]",
      "text/plain": [
       "<Figure size 1296x1296 with 1 Axes>"
      ]
     },
     "metadata": {},
     "output_type": "display_data"
    }
   ],
   "source": [
    "image = Image.fromarray(tile_raster_images(kernels, img_shape=(5, 5) ,tile_shape=(4, 8), tile_spacing=(1, 1)))\n",
    "plt.rcParams['figure.figsize'] = (18.0, 18.0)\n",
    "imgplot = plt.imshow(image)\n",
    "imgplot.set_cmap('gray')  "
   ]
  },
  {
   "cell_type": "markdown",
   "metadata": {},
   "source": [
    "------------------"
   ]
  },
  {
   "cell_type": "markdown",
   "metadata": {},
   "source": [
    "# closing the session"
   ]
  },
  {
   "cell_type": "markdown",
   "metadata": {},
   "source": [
    "After the computational graph yields all its values, the session is then closed"
   ]
  },
  {
   "cell_type": "code",
   "execution_count": 12,
   "metadata": {},
   "outputs": [],
   "source": [
    "sess.close() #finish the session"
   ]
  },
  {
   "cell_type": "markdown",
   "metadata": {},
   "source": [
    "# Challenges\n",
    "Our experience with Tensorflow was overrall positive. Some challenges and guides to overcome them include\n",
    "\n",
    "- Having exceptions dealing with misplaced shape\n",
    "<code>ValueError: Cannot feed value of shape (100, 784) for Tensor 'convolutional/X:0', which has shape '(?, 28, 28, 1)'</code>\n",
    "\n",
    "This challenge becomes more and more apparent the deeper the network. Having a deeper network (.e.g. [GoogleNet](https://www.cs.unc.edu/~wliu/papers/GoogLeNet.pdf) ) with more parameters and layers for example can lead to situations where the shapes don't match. This is excarcebated by the fact that the final result is not known until after the static computational graph is run.\n",
    "\n",
    "Building the computational graph step by step from small one layer onwards and testing continuously helped avoid this issue.\n",
    "\n",
    "- Having a non-dynamic to see results of the neural network\n",
    "\n",
    "The very speed of tensorflow comes from its lazy evaluation of a computational graph. However, when we were building the neural network and wanted to having branching logic based on various criteria(e.e.g loss, different layer performance .etc.), it was not straightforward.\n",
    "\n",
    "Tensorflow now has an API to do [control flow](https://www.tensorflow.org/api_guides/python/control_flow_ops) but it ends up not being pythonic and adds an additional layer of complexity to the neural network logic."
   ]
  },
  {
   "cell_type": "markdown",
   "metadata": {},
   "source": [
    "# Team members\n",
    "Thanks to \n",
    "1. Ejiro, an engineering student at UNILAG for putting together the presentation.\n",
    "2. Tella Babatunde for working on neural network\n",
    "3. Ibrahim Gbadegeshin for the A+ presentation\n",
    "4. Juwe C. Raphael, Tunde Osborne for making it possible\n",
    "5. Yours truly, [Todun](https://www.linkedin.com/in/todun), with the [jupyter notebook](https://github.com/todun/deep-frameworks-explore.git) for fielding questions and aggregating our effort"
   ]
  },
  {
   "cell_type": "markdown",
   "metadata": {},
   "source": [
    "# References\n",
    "- https://github.com/todun/deep-frameworks-explore.git\n",
    "- http://bit.ly/aisaturday_tensorflow\n"
   ]
  },
  {
   "cell_type": "code",
   "execution_count": null,
   "metadata": {},
   "outputs": [],
   "source": []
  }
 ],
 "metadata": {
  "kernelspec": {
   "display_name": "Python 3",
   "language": "python",
   "name": "python3"
  },
  "language_info": {
   "codemirror_mode": {
    "name": "ipython",
    "version": 3
   },
   "file_extension": ".py",
   "mimetype": "text/x-python",
   "name": "python",
   "nbconvert_exporter": "python",
   "pygments_lexer": "ipython3",
   "version": "3.6.4"
  }
 },
 "nbformat": 4,
 "nbformat_minor": 2
}
